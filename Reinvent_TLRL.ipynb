{
 "cells": [
  {
   "cell_type": "markdown",
   "id": "d986ee11",
   "metadata": {},
   "source": [
    "# Focus a _de novo_ model for Reinforcement Learning with the Reinvent prior\n",
    "\n",
    "This tutorial demonstrate how to focus a prior with transfer learning (RL) and use the new model for further reinforcement learning (RL).  We will use the Reinvent prior (_de novo_ model).\n",
    "\n",
    "We assume you run this tutorial from within the `notebook/` directory of the repository."
   ]
  },
  {
   "cell_type": "code",
   "execution_count": null,
   "id": "bdd5b5e1",
   "metadata": {},
   "outputs": [],
   "source": [
    "import os\n",
    "import shutil\n",
    "import re\n",
    "\n",
    "import pandas as pd\n",
    "import numpy as np\n",
    "import seaborn as sns\n",
    "import matplotlib.pyplot as plt\n",
    "\n",
    "import reinvent\n",
    "from reinvent.notebooks import load_tb_data, plot_scalars, get_image, create_mol_grid\n",
    "\n",
    "%load_ext tensorboard"
   ]
  },
  {
   "cell_type": "markdown",
   "id": "73cfc1a2",
   "metadata": {},
   "source": [
    "## Set up the first RL run\n",
    "\n",
    "Here, we will train a prior to generate more \"drug-like\" compounds as compared to the starting prior which was trained n ChEMBL data.\n",
    "\n",
    "This is essentially the same setup as in the Reinvent_demo notebook."
   ]
  },
  {
   "cell_type": "code",
   "execution_count": null,
   "id": "ecb2d1f6",
   "metadata": {},
   "outputs": [],
   "source": [
    "wd = \"/tmp/R4_notebooks_output\"\n",
    "top = os.path.abspath(os.path.join(reinvent.__path__[0], \"..\"))\n",
    "top"
   ]
  },
  {
   "cell_type": "markdown",
   "id": "e1304f0a",
   "metadata": {},
   "source": [
    "### Delete existing working directory and create a new one\n",
    "\n",
    "If the working directory already exists, it will be reused"
   ]
  },
  {
   "cell_type": "code",
   "execution_count": null,
   "id": "47f99373",
   "metadata": {},
   "outputs": [],
   "source": [
    "if not os.path.isdir(wd):\n",
    "    shutil.rmtree(wd, ignore_errors=True)\n",
    "    os.mkdir(wd)\n",
    "\n",
    "os.chdir(wd)\n",
    "wd"
   ]
  },
  {
   "cell_type": "markdown",
   "id": "1aec5b4e",
   "metadata": {},
   "source": [
    "### Write config file"
   ]
  },
  {
   "cell_type": "code",
   "execution_count": null,
   "id": "890824f1",
   "metadata": {},
   "outputs": [],
   "source": [
    "prior_filename = os.path.abspath(os.path.join(reinvent.__path__[0], \"..\", \"priors\", \"reinvent.prior\"))\n",
    "agent_filename = prior_filename\n",
    "\n",
    "stage1_checkpoint = \"stage1.chkpt\"\n",
    "\n",
    "stage1_parameters=f\"\"\"\n",
    "run_type = \"staged_learning\"\n",
    "device = \"cuda:0\"\n",
    "tb_logdir = \"tb_stage1\"\n",
    "json_out_config = \"_stage1.json\"\n",
    "\n",
    "[parameters]\n",
    "\n",
    "prior_file = \"{prior_filename}\"\n",
    "agent_file = \"{agent_filename}\"\n",
    "summary_csv_prefix = \"stage1\"\n",
    "\n",
    "batch_size = 100\n",
    "\n",
    "use_checkpoint = false\n",
    "\n",
    "[learning_strategy]\n",
    "\n",
    "type = \"dap\"\n",
    "sigma = 128\n",
    "rate = 0.0001\n",
    "\n",
    "[[stage]]\n",
    "\n",
    "max_score = 1.0\n",
    "max_steps = 300\n",
    "\n",
    "chkpt_file = \"{stage1_checkpoint}\"\n",
    "\n",
    "scoring_function.type = \"custom_product\"\n",
    "\n",
    "[stage.scoring]\n",
    "type = \"geometric_mean\"\n",
    "\n",
    "[[stage.scoring.component]]\n",
    "[stage.scoring.component.custom_alerts]\n",
    "\n",
    "[[stage.scoring.component.custom_alerts.endpoint]]\n",
    "name = \"Alerts\"\n",
    "\n",
    "params.smarts = [\n",
    "    \"[*;r8]\",\n",
    "    \"[*;r9]\",\n",
    "    \"[*;r10]\",\n",
    "    \"[*;r11]\",\n",
    "    \"[*;r12]\",\n",
    "    \"[*;r13]\",\n",
    "    \"[*;r14]\",\n",
    "    \"[*;r15]\",\n",
    "    \"[*;r16]\",\n",
    "    \"[*;r17]\",\n",
    "    \"[#8][#8]\",\n",
    "    \"[#6;+]\",\n",
    "    \"[#16][#16]\",\n",
    "    \"[#7;!n][S;!$(S(=O)=O)]\",\n",
    "    \"[#7;!n][#7;!n]\",\n",
    "    \"C#C\",\n",
    "    \"C(=[O,S])[O,S]\",\n",
    "    \"[#7;!n][C;!$(C(=[O,N])[N,O])][#16;!s]\",\n",
    "    \"[#7;!n][C;!$(C(=[O,N])[N,O])][#7;!n]\",\n",
    "    \"[#7;!n][C;!$(C(=[O,N])[N,O])][#8;!o]\",\n",
    "    \"[#8;!o][C;!$(C(=[O,N])[N,O])][#16;!s]\",\n",
    "    \"[#8;!o][C;!$(C(=[O,N])[N,O])][#8;!o]\",\n",
    "    \"[#16;!s][C;!$(C(=[O,N])[N,O])][#16;!s]\"\n",
    "]\n",
    "\n",
    "[[stage.scoring.component]]\n",
    "[stage.scoring.component.QED]\n",
    "\n",
    "[[stage.scoring.component.QED.endpoint]]\n",
    "name = \"QED\"\n",
    "weight = 0.6\n",
    "\n",
    "\n",
    "[[stage.scoring.component]]\n",
    "[stage.scoring.component.NumAtomStereoCenters]\n",
    "\n",
    "[[stage.scoring.component.NumAtomStereoCenters.endpoint]]\n",
    "name = \"Stereo\"\n",
    "weight = 0.4\n",
    "\n",
    "transform.type = \"left_step\"\n",
    "transform.low = 0\n",
    "\"\"\""
   ]
  },
  {
   "cell_type": "code",
   "execution_count": null,
   "id": "4086c916",
   "metadata": {},
   "outputs": [],
   "source": [
    "stage1_config_filename = \"stage1.toml\"\n",
    "\n",
    "with open(stage1_config_filename, \"w\") as tf:\n",
    "    tf.write(stage1_parameters)"
   ]
  },
  {
   "cell_type": "markdown",
   "id": "a015f3d0",
   "metadata": {},
   "source": [
    "##  Stage 1 Reinforcement Learning\n",
    "\n",
    "This run will take several minutes to finish and timings are provided at the end of the run.  After the run the TensorBoard output can be used to inspect the results of the run"
   ]
  },
  {
   "cell_type": "code",
   "execution_count": null,
   "id": "ffbbba42",
   "metadata": {},
   "outputs": [],
   "source": [
    "shutil.rmtree(\"tb_stage1_0\", ignore_errors=True)"
   ]
  },
  {
   "cell_type": "code",
   "execution_count": null,
   "id": "32e0b38b",
   "metadata": {},
   "outputs": [],
   "source": [
    "%%time\n",
    "!reinvent -l stage1.log $stage1_config_filename"
   ]
  },
  {
   "cell_type": "markdown",
   "id": "abbf39ff",
   "metadata": {},
   "source": [
    "### Inspect results with TensorBoard\n",
    "\n",
    "TensorBoard needs to be started after REINVENT has finished."
   ]
  },
  {
   "cell_type": "code",
   "execution_count": null,
   "id": "cf7a7bdd",
   "metadata": {},
   "outputs": [],
   "source": [
    "%tensorboard --bind_all --logdir $wd/tb_stage1_0"
   ]
  },
  {
   "cell_type": "markdown",
   "id": "7005dd4c",
   "metadata": {},
   "source": [
    "## Transfer Learning to focus the model\n",
    "\n",
    "The aim of focussing a model is to train the model to generate molecules more like the input examples.  \"More-like\" here means that the loss is the mean NLL (negative log likelihood) of the molecule.  This means that training will lead to lower NLLs of sequences as in the input SMILES."
   ]
  },
  {
   "cell_type": "markdown",
   "id": "42c61477",
   "metadata": {},
   "source": [
    "### Prepare the data\n",
    "\n",
    "We use the known Tankyrase-2 binders from [BindingDB](https://www.bindingdb.org/rwd/jsp/dbsearch/PrimarySearch_ki.jsp?tag=pol&submit=Search&target=tankyrase-2&polymerid=50006570,7858,9866)."
   ]
  },
  {
   "cell_type": "code",
   "execution_count": null,
   "id": "8f1451cc",
   "metadata": {},
   "outputs": [],
   "source": [
    "bdb = pd.read_csv(f\"{top}/data/tnks2.csv\")\n",
    "bdb"
   ]
  },
  {
   "cell_type": "markdown",
   "id": "4fa49a26",
   "metadata": {},
   "source": [
    "#### Clean data and extract \"good\" binders¶\n",
    "\n",
    "This is certainly a bit of a naive setup and is not meant to demonstrate the intricacies of data cleaning.  The literature should be consulted for more information e.g. [Combining IC50 or Ki Values from Different Sources Is a Source of Significant Noise](https://doi.org/10.1021/acs.jcim.4c00049).\n",
    "\n",
    "Here we simply filter by all compounds with an IC50 smaller than 1 μm and discard everything else."
   ]
  },
  {
   "cell_type": "code",
   "execution_count": null,
   "id": "7f8df30b",
   "metadata": {},
   "outputs": [],
   "source": [
    "clean = bdb[~bdb[\"exp (nM)\"].str.match(\"[<>]\")]\n",
    "clean = clean.astype({'exp (nM)': 'float'})\n",
    "len(bdb), len(clean)"
   ]
  },
  {
   "cell_type": "code",
   "execution_count": null,
   "id": "6d554f63",
   "metadata": {},
   "outputs": [],
   "source": [
    "good = clean[clean[\"exp (nM)\"] < 1000]\n",
    "good = good[good[\"exp_method\"] != \"EC50\"]\n",
    "good = good[good[\"exp_method\"] != \"Kd\"]\n",
    "good = good.rename(columns={\"exp (nM)\": \"IC50\"})\n",
    "good = good.drop(columns=[\"exp_method\"])"
   ]
  },
  {
   "cell_type": "code",
   "execution_count": null,
   "id": "c351f5ce",
   "metadata": {},
   "outputs": [],
   "source": [
    "grid = create_mol_grid(good)\n",
    "display(grid)"
   ]
  },
  {
   "cell_type": "markdown",
   "id": "9478b762",
   "metadata": {},
   "source": [
    "#### Write the good binders to a SMILES file\n",
    "\n",
    "We will need this file for TL.  We also write the IC50 as comments but they will not be needed in TL\n",
    "\n",
    "We also split the SMILES into a training and a validation set.  Again, rather naivley, we do this randomlu."
   ]
  },
  {
   "cell_type": "code",
   "execution_count": null,
   "id": "8f4b02b0",
   "metadata": {},
   "outputs": [],
   "source": [
    "TL_train_filename = \"tnks2_train.smi\"\n",
    "TL_validation_filename = \"tnks2_validation.smi\"\n",
    "\n",
    "data = good.sample(frac=1)\n",
    "n_head = len(data) // 5\n",
    "n_tail = len(good) - n_head\n",
    "print(n_head, n_tail)\n",
    "\n",
    "train, validation = data.head(n_head), data.tail(n_tail)\n",
    "\n",
    "train.to_csv(TL_train_filename, sep=\"\\t\", index=False, header=False)\n",
    "validation.to_csv(TL_validation_filename, sep=\"\\t\", index=False, header=False)"
   ]
  },
  {
   "cell_type": "markdown",
   "id": "2bae917a",
   "metadata": {},
   "source": [
    "#### TL setup"
   ]
  },
  {
   "cell_type": "code",
   "execution_count": null,
   "id": "a36e006c",
   "metadata": {},
   "outputs": [],
   "source": [
    "TL_parameters = f\"\"\"\n",
    "run_type = \"transfer_learning\"\n",
    "device = \"cuda:0\"\n",
    "tb_logdir = \"tb_TL\"\n",
    "\n",
    "\n",
    "[parameters]\n",
    "\n",
    "num_epochs = 50\n",
    "save_every_n_epochs = 2\n",
    "batch_size = 100\n",
    "sample_batch_size = 2000\n",
    "\n",
    "input_model_file = \"{stage1_checkpoint}\"\n",
    "output_model_file = \"TL_reinvent.model\"\n",
    "smiles_file = \"{TL_train_filename}\"\n",
    "validation_smiles_file = \"{TL_validation_filename}\"\n",
    "standardize_smiles = true\n",
    "randomize_smiles = true\n",
    "randomize_all_smiles = false\n",
    "internal_diversity = true\n",
    "\"\"\""
   ]
  },
  {
   "cell_type": "code",
   "execution_count": null,
   "id": "0d4e0688",
   "metadata": {},
   "outputs": [],
   "source": [
    "TL_config_filename = \"transfer_learning.toml\"\n",
    "\n",
    "with open(TL_config_filename, \"w\") as tf:\n",
    "    tf.write(TL_parameters)"
   ]
  },
  {
   "cell_type": "markdown",
   "id": "19afb5b9",
   "metadata": {},
   "source": [
    "## Start Transfer Learning"
   ]
  },
  {
   "cell_type": "code",
   "execution_count": null,
   "id": "c3876981",
   "metadata": {},
   "outputs": [],
   "source": [
    "shutil.rmtree(\"tb_TL\", ignore_errors=True)"
   ]
  },
  {
   "cell_type": "code",
   "execution_count": null,
   "id": "65b9678e",
   "metadata": {},
   "outputs": [],
   "source": [
    "!reinvent -l transfer_learning.log $TL_config_filename"
   ]
  },
  {
   "cell_type": "markdown",
   "id": "2d92b702",
   "metadata": {},
   "source": [
    "### Inspect results with TensorBoard"
   ]
  },
  {
   "cell_type": "code",
   "execution_count": null,
   "id": "644334c9",
   "metadata": {},
   "outputs": [],
   "source": [
    "%tensorboard --bind_all --logdir $wd/tb_TL"
   ]
  },
  {
   "cell_type": "markdown",
   "id": "95af5cf0",
   "metadata": {},
   "source": [
    "### Choice of model\n",
    "\n",
    "The TL run has written out a checkpoint file every second step and now we will have to decide which checkpoint to use for RL.  This is really a judgment call for the user as TL in this context is not really a well defined problem with a well defined solution.  The aim of TL is to create a molecular distribution more like the molecules in the input SMILES but it is not principally clear how to quantify \"more like\".  On the one hand we do not want to stay too close to the original distribution and on the other hand we we do not want to create a model that, in the extrene, creates only molecules from the input distribution.\n",
    "\n",
    "So here we will use the model from step 40 whre the validation loss is minimal.  From the TensorBoard output we see that number of valid SMILES is slightly decreasing over the TL run but is still at 98% at step 40.  Duplicate SMILES generation initially decreases and increases again after around step 35 with a plateau of close-to-zero between steps 15 and 35.  Internal diversity is also decreasing over time but note from the y-axis that this is really very minimal.  **Please note, that when you run this example the results may be different and you may have to decide on a checkpoint file from a different step.**\n",
    "\n",
    "The TOML file for stage 2 will reuse most of the configuration from stage 1 as we will need to keep the original scoring functions active.  We only need to change the agent to the model file we have obtained from the TL run, increase the number of `max_steps`, and change filenames."
   ]
  },
  {
   "cell_type": "code",
   "execution_count": null,
   "id": "1f7ba1e6",
   "metadata": {},
   "outputs": [],
   "source": [
    "TL_model_filename = os.path.join(wd, \"TL_reinvent.model.40.chkpt\")\n",
    "\n",
    "stage2_parameters = re.sub(\"stage1\", f\"stage2\", stage1_parameters)\n",
    "stage2_parameters = re.sub(\"agent_file.*\\n\", f'agent_file = \"{TL_model_filename}\"\\n', stage2_parameters)\n",
    "stage2_parameters = re.sub(\"max_steps.*\\n\", f'max_steps = 500\\n', stage2_parameters)'"
   ]
  },
  {
   "cell_type": "markdown",
   "id": "34dcf002",
   "metadata": {},
   "source": [
    "## Stage 2 RL"
   ]
  },
  {
   "cell_type": "markdown",
   "id": "6ab6d019",
   "metadata": {},
   "source": [
    "### Predictive model (ChemProp)\n",
    "\n",
    "This is a [model](https://www.dropbox.com/scl/fi/zpnqc9at5a5dnkzfdbo6g/model.pt?rlkey=g005yli9364uptd94d60jtg5c&dl=0) that has been trained on free energy simulation data computed for the TNKS2 target."
   ]
  },
  {
   "cell_type": "code",
   "execution_count": null,
   "id": "497cfd16",
   "metadata": {},
   "outputs": [],
   "source": [
    "chemprop_path = os.path.join(wd, \"chemprop\")"
   ]
  },
  {
   "cell_type": "code",
   "execution_count": null,
   "id": "45f7a596",
   "metadata": {},
   "outputs": [],
   "source": [
    "pred_model_parameters = f\"\"\"\n",
    "[[stage.scoring.component]]\n",
    "[stage.scoring.component.ChemProp]\n",
    "\n",
    "[[stage.scoring.component.ChemProp.endpoint]]\n",
    "name = \"ChemProp\"\n",
    "weight = 0.6\n",
    "\n",
    "params.checkpoint_dir = \"{chemprop_path}\"\n",
    "params.rdkit_2d_normalized = true\n",
    "\n",
    "transform.type = \"reverse_sigmoid\"\n",
    "transform.high = 0.0\n",
    "transform.low = -50.0\n",
    "transform.k = 0.4\n",
    "\"\"\""
   ]
  },
  {
   "cell_type": "markdown",
   "id": "8d383099",
   "metadata": {},
   "source": [
    "### Diversity Filter and Inception\n",
    "\n",
    "The Diversity Filter (DF) forces the agent to explore new scaffolds (here we use the Murcko scaffold decomposition algorithm from RDKit).  If the number count of the same scaffold exceeds 10 (`bucket_size`), all further occurences of the generated molecule containing that scaffold will be scored with zero.  This will only be enforced if the total score exceeds 0.7 (`minscore`) meaning that molecules lower than this score will not be considered for the DF filter.\n",
    "\n",
    "Inception is a form of replay memory.  This memory is used to compute part of the loss from a random sample from this memory (the other part is the augmented likelihood computed from the prior and agent likelihoods, and the current total score).  Here we chose a memory size of 50 (`memory_size`) and randomly sample 10 store molecules from it every step 10 steps (`sample_size`).  We could also seed  the memory with a set of SMILES of our own but please note that if those molecules do not score highly they will be removed from the memory very early in the run (we only store a finite size of molecules)."
   ]
  },
  {
   "cell_type": "code",
   "execution_count": null,
   "id": "e0b21c2d",
   "metadata": {},
   "outputs": [],
   "source": [
    "df_parameters = \"\"\"\n",
    "[diversity_filter]\n",
    "\n",
    "type = \"IdenticalMurckoScaffold\"\n",
    "bucket_size = 10\n",
    "minscore = 0.7\n",
    "\"\"\""
   ]
  },
  {
   "cell_type": "code",
   "execution_count": null,
   "id": "0853b906",
   "metadata": {},
   "outputs": [],
   "source": [
    "inception_parameters = \"\"\"\n",
    "[inception]\n",
    "\n",
    "smiles_file = \"\"  # no seed SMILES\n",
    "memory_size = 50\n",
    "sample_size = 10\n",
    "\"\"\""
   ]
  },
  {
   "cell_type": "code",
   "execution_count": null,
   "id": "ef3a2ead",
   "metadata": {},
   "outputs": [],
   "source": [
    "full_stage2_parameters = stage2_parameters + pred_model_parameters + df_parameters + inception_parameters \n",
    "stage2_config_filename = \"stage2.toml\"\n",
    "\n",
    "with open(stage2_config_filename, \"w\") as tf:\n",
    "    tf.write(full_stage2_parameters)"
   ]
  },
  {
   "cell_type": "markdown",
   "id": "2569ef77",
   "metadata": {},
   "source": [
    "### Run stage2\n",
    "\n",
    "This may take an hour or more."
   ]
  },
  {
   "cell_type": "code",
   "execution_count": null,
   "id": "ccd4a000",
   "metadata": {},
   "outputs": [],
   "source": [
    "%%time\n",
    "!reinvent -l stage2.log $stage2_config_filename"
   ]
  },
  {
   "cell_type": "markdown",
   "id": "5d67103c",
   "metadata": {},
   "source": [
    "### Inspect results with TensorBoard\n",
    "\n",
    "TensorBoard needs to be started after REINVENT has finished."
   ]
  },
  {
   "cell_type": "code",
   "execution_count": null,
   "id": "0c442762",
   "metadata": {},
   "outputs": [],
   "source": [
    "%tensorboard --bind_all --logdir $wd/tb_stage2_0"
   ]
  },
  {
   "cell_type": "markdown",
   "id": "0c12fd20",
   "metadata": {},
   "source": [
    "## Discussion\n",
    "\n",
    "In this brief tutorial we can only capture a few key points.  In the TB output we see that all scoring functions are increasing in the run demonstrating that the agent learns to generate compounds more likely to follow the target (scoring) profile we have set up.  This is also confirmed by the loss functions (`Loss (likelihood averages)`) where we see prior and agent NLL drift apart and the agent NLL decreases over the run.  `QED` tells us that reasonable \"drug-like\" compounds (good quality molecules) are generated and in `ChemProp (raw)` we see that the compounds have increasinly better predicted binding affinity towards the TNKS2 target.  The percentage of valid SMILES is very high but we also produce many duplicates which may be a consequence of the very focussed model.\n",
    "\n",
    "Keep in mind that RL is very stochastic in nature and that a new run can produce rather different results.  It is therefore good practice to carry out multiple RL runs and aggregate the results to analyse the statistics of the run.\n",
    "\n",
    "Finally, we view some of the generated structures and choose to define \"good binders\" as molecules with a QED > 0.8 and a binding free energy ΔG < -25 kcal/mol.  The choice is a bit arbitrary but sensible.  Adjust to your own needs.  We see below that many of the predicited good binders have the same or similar scaffold as known binders.  In practice, we may want to analyse how many of the generated molecules are identical or very similar to those known binders.  This is a bit ambiguous though as rediscovery would demonstrate that the workflow works but on the other hand we are not interested in poducing already known results!  Further analysis could involve synthesisability estimation or ADMET models.  A typical workflow would require an elaborate post-processing step (filtering, clustering) to select candidate molecules to discuss with an actual project team and decide which compounds, if any, are useful for a given project. "
   ]
  },
  {
   "cell_type": "code",
   "execution_count": null,
   "id": "7a410049",
   "metadata": {},
   "outputs": [],
   "source": [
    "csv_file = os.path.join(wd, \"stage2_1.csv\")\n",
    "df = pd.read_csv(csv_file)\n",
    "df"
   ]
  },
  {
   "cell_type": "code",
   "execution_count": null,
   "id": "5b45ffa6",
   "metadata": {},
   "outputs": [],
   "source": [
    "good_QED = df[\"QED\"] > 0.8\n",
    "good_dG = df[\"ChemProp (raw)\"] < -25.0  # kcal/mol\n",
    "\n",
    "good_binders = df[good_QED & good_dG]\n",
    "len(good_binders)"
   ]
  },
  {
   "cell_type": "markdown",
   "id": "2c79fadc",
   "metadata": {},
   "source": [
    "#### Duplicate removal\n",
    "\n",
    "This can be easly done by finding duplicate SMILES.  The SMILES in the CSV file have been canonicalized."
   ]
  },
  {
   "cell_type": "code",
   "execution_count": null,
   "id": "adbf1211",
   "metadata": {},
   "outputs": [],
   "source": [
    "good_binders = good_binders.drop_duplicates(subset=['SMILES'])\n",
    "len(good_binders)"
   ]
  },
  {
   "cell_type": "markdown",
   "id": "cbdb3f71",
   "metadata": {},
   "source": [
    "### Displaying good binders\n",
    "\n",
    "The display grid allows you to look at the scores and other data frome the datafram (the little \"i\" in the top right corner, click to make it sticky) and it is also possible to sort the compounds by these data."
   ]
  },
  {
   "cell_type": "code",
   "execution_count": null,
   "id": "9b19b22b",
   "metadata": {},
   "outputs": [],
   "source": [
    "grid = create_mol_grid(good_binders)\n",
    "display(grid)"
   ]
  },
  {
   "cell_type": "code",
   "execution_count": null,
   "id": "afa158ac",
   "metadata": {},
   "outputs": [],
   "source": []
  }
 ],
 "metadata": {
  "jupytext": {
   "formats": "ipynb,py:light"
  },
  "kernelspec": {
   "display_name": "Python 3 (ipykernel)",
   "language": "python",
   "name": "python3"
  }
 },
 "nbformat": 4,
 "nbformat_minor": 5
}
