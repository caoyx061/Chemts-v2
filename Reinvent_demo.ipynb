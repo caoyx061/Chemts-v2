{
 "cells": [
  {
   "cell_type": "markdown",
   "id": "a38c9e48",
   "metadata": {},
   "source": [
    "# _De novo_ Reinforcement Learning with the Reinvent prior\n",
    "\n",
    "This is a short demo to\n",
    "- Set up a reinforcment learning run\n",
    "- Carry out a reinforcment learning run\n",
    "- Visualize the results with TensorBoard\n",
    "- Extract the raw data from TensorBoard and how to work with it"
   ]
  },
  {
   "cell_type": "code",
   "execution_count": 1,
   "id": "d1562cf9",
   "metadata": {},
   "outputs": [
    {
     "ename": "ModuleNotFoundError",
     "evalue": "No module named 'seaborn'",
     "output_type": "error",
     "traceback": [
      "\u001b[0;31m---------------------------------------------------------------------------\u001b[0m",
      "\u001b[0;31mModuleNotFoundError\u001b[0m                       Traceback (most recent call last)",
      "Cell \u001b[0;32mIn[1], line 5\u001b[0m\n\u001b[1;32m      2\u001b[0m \u001b[38;5;28;01mimport\u001b[39;00m \u001b[38;5;21;01mshutil\u001b[39;00m\n\u001b[1;32m      4\u001b[0m \u001b[38;5;28;01mimport\u001b[39;00m \u001b[38;5;21;01mpandas\u001b[39;00m \u001b[38;5;28;01mas\u001b[39;00m \u001b[38;5;21;01mpd\u001b[39;00m\n\u001b[0;32m----> 5\u001b[0m \u001b[38;5;28;01mimport\u001b[39;00m \u001b[38;5;21;01mseaborn\u001b[39;00m \u001b[38;5;28;01mas\u001b[39;00m \u001b[38;5;21;01msns\u001b[39;00m\n\u001b[1;32m      6\u001b[0m \u001b[38;5;28;01mimport\u001b[39;00m \u001b[38;5;21;01mmatplotlib\u001b[39;00m\u001b[38;5;21;01m.\u001b[39;00m\u001b[38;5;21;01mpyplot\u001b[39;00m \u001b[38;5;28;01mas\u001b[39;00m \u001b[38;5;21;01mplt\u001b[39;00m\n\u001b[1;32m      8\u001b[0m \u001b[38;5;28;01mimport\u001b[39;00m \u001b[38;5;21;01mreinvent\u001b[39;00m\n",
      "\u001b[0;31mModuleNotFoundError\u001b[0m: No module named 'seaborn'"
     ]
    }
   ],
   "source": [
    "import os\n",
    "import shutil\n",
    "\n",
    "import pandas as pd\n",
    "import seaborn as sns\n",
    "import matplotlib.pyplot as plt\n",
    "\n",
    "import reinvent\n",
    "from reinvent.notebooks import load_tb_data, plot_scalars, get_image, create_mol_grid\n",
    "\n",
    "%load_ext tensorboard"
   ]
  },
  {
   "cell_type": "markdown",
   "id": "03aeada3",
   "metadata": {},
   "source": [
    "## Set up the REINVENT run\n",
    "\n",
    "A work directory is defined and created anew (all previous data deleted if the directory already exsists).  The prior file is taken from the REINVENT repository and the agent is initially the same as the prior.  A TOML configuration is written out to file in the work directory."
   ]
  },
  {
   "cell_type": "code",
   "execution_count": null,
   "id": "c8002114",
   "metadata": {},
   "outputs": [],
   "source": [
    "wd = \"/tmp/R4_notebooks_output\""
   ]
  },
  {
   "cell_type": "markdown",
   "id": "6240d5fa",
   "metadata": {},
   "source": [
    "### Delete existing working directory (!)\n",
    "\n",
    "Skip this step if you have already carried out the RL run but wish to analyis the results further."
   ]
  },
  {
   "cell_type": "code",
   "execution_count": null,
   "id": "7b8fffb5",
   "metadata": {},
   "outputs": [],
   "source": [
    "shutil.rmtree(wd, ignore_errors=True)\n",
    "os.mkdir(wd)\n",
    "os.chdir(wd)"
   ]
  },
  {
   "cell_type": "markdown",
   "id": "fe5102dd",
   "metadata": {},
   "source": [
    "### Global configuration parameters\n",
    "\n",
    "Parameters global to the run:\n",
    "- The run type: one of \"scoring\", \"sampling\", \"transfer_learning\", and \"staged_learning\"\n",
    "- The device to run on: \"cpu\" or \"cuda:0\" where the number is the device index (needed for ROCm)\n",
    "- The output directory for TensorBoard (optional)\n",
    "- The configuration file in JSON format (optional)"
   ]
  },
  {
   "cell_type": "code",
   "execution_count": null,
   "id": "209fc678",
   "metadata": {},
   "outputs": [],
   "source": [
    "global_parameters=\"\"\"\n",
    "run_type = \"staged_learning\"\n",
    "device = \"cuda:0\"\n",
    "tb_logdir = \"tb_stage1\"\n",
    "json_out_config = \"_stage1.json\"\n",
    "\"\"\""
   ]
  },
  {
   "cell_type": "markdown",
   "id": "404eface",
   "metadata": {},
   "source": [
    "### Parameters\n",
    "\n",
    "Here we specify the model files, the prefix for the output CSV summary file and the batch size for sampling and stochastic gradient descent (SGD).  The batch size is often given in 2^N but there is in now way required.  Typically batch sizes are betwen 50 and 150.  Batch size effects on SGD and so also the learning rate.  Some experimentation may be required to adjust this but keep in mind that, say, raising the total score as fast as possible is not necessarily the best choice as this may hamper exploration."
   ]
  },
  {
   "cell_type": "code",
   "execution_count": null,
   "id": "ad12ed23",
   "metadata": {},
   "outputs": [],
   "source": [
    "prior_filename = os.path.join(reinvent.__path__[0], \"..\", \"priors\", \"reinvent.prior\")\n",
    "agent_filename = prior_filename\n",
    "\n",
    "parameters=f\"\"\"\n",
    "[parameters]\n",
    "\n",
    "prior_file = \"{prior_filename}\"\n",
    "agent_file = \"{agent_filename}\"\n",
    "summary_csv_prefix = \"stage1\"\n",
    "\n",
    "batch_size = 100\n",
    "\n",
    "use_checkpoint = false\n",
    "\"\"\""
   ]
  },
  {
   "cell_type": "markdown",
   "id": "a3dc7721",
   "metadata": {},
   "source": [
    "### Reinforcement Learning strategy"
   ]
  },
  {
   "cell_type": "code",
   "execution_count": null,
   "id": "9932c35b",
   "metadata": {},
   "outputs": [],
   "source": [
    "learning_strategy = \"\"\"\n",
    "[learning_strategy]\n",
    "\n",
    "type = \"dap\"\n",
    "sigma = 128\n",
    "rate = 0.0001\n",
    "\"\"\""
   ]
  },
  {
   "cell_type": "markdown",
   "id": "686ac3c6",
   "metadata": {},
   "source": [
    "###  Stage setup\n",
    "\n",
    "Here we only use a single stage. The aim of this stage is to create an agent which is highly likely to generate \"drug-like\" molecules (as per QED and Custom Alerts) with no stereocentres\n",
    "\n",
    "The stage will terminate when a maximum number of 300 steps is reached.  Termination could occur earlier when the maximum score of 1.0 is exceeded but this is very unlikely to occur.  A checkpoint file is written out which can be used as the agent in a subsequent stage.\n",
    "\n",
    "The scoring function is a weighted product of all the scoring components: QED and number of sterecentres.  The latter is used here to avoid stereocentres as they are not support by the Reinvent prior.  Zero stereocentres aids in downstream 3D task to avoid having to carry out stereocentre enumeration.  Custom alerts is a filter which filters out (scores as zero) all generated compounds which match one of the SMARTS patterns.  Number of sterecentres uses a transformation function to ensure the component score is between 0 and 1."
   ]
  },
  {
   "cell_type": "code",
   "execution_count": null,
   "id": "79c7d3f8",
   "metadata": {},
   "outputs": [],
   "source": [
    "stages = \"\"\"\n",
    "[[stage]]\n",
    "\n",
    "max_score = 1.0\n",
    "max_steps = 300\n",
    "\n",
    "chkpt_file = 'stage1.chkpt'\n",
    "\n",
    "scoring_function.type = \"custom_product\"\n",
    "\n",
    "[stage.scoring]\n",
    "type = \"geometric_mean\"\n",
    "\n",
    "[[stage.scoring.component]]\n",
    "[stage.scoring.component.custom_alerts]\n",
    "\n",
    "[[stage.scoring.component.custom_alerts.endpoint]]\n",
    "name = \"Alerts\"\n",
    "\n",
    "params.smarts = [\n",
    "    \"[*;r8]\",\n",
    "    \"[*;r9]\",\n",
    "    \"[*;r10]\",\n",
    "    \"[*;r11]\",\n",
    "    \"[*;r12]\",\n",
    "    \"[*;r13]\",\n",
    "    \"[*;r14]\",\n",
    "    \"[*;r15]\",\n",
    "    \"[*;r16]\",\n",
    "    \"[*;r17]\",\n",
    "    \"[#8][#8]\",\n",
    "    \"[#6;+]\",\n",
    "    \"[#16][#16]\",\n",
    "    \"[#7;!n][S;!$(S(=O)=O)]\",\n",
    "    \"[#7;!n][#7;!n]\",\n",
    "    \"C#C\",\n",
    "    \"C(=[O,S])[O,S]\",\n",
    "    \"[#7;!n][C;!$(C(=[O,N])[N,O])][#16;!s]\",\n",
    "    \"[#7;!n][C;!$(C(=[O,N])[N,O])][#7;!n]\",\n",
    "    \"[#7;!n][C;!$(C(=[O,N])[N,O])][#8;!o]\",\n",
    "    \"[#8;!o][C;!$(C(=[O,N])[N,O])][#16;!s]\",\n",
    "    \"[#8;!o][C;!$(C(=[O,N])[N,O])][#8;!o]\",\n",
    "    \"[#16;!s][C;!$(C(=[O,N])[N,O])][#16;!s]\"\n",
    "]\n",
    "\n",
    "[[stage.scoring.component]]\n",
    "[stage.scoring.component.QED]\n",
    "\n",
    "[[stage.scoring.component.QED.endpoint]]\n",
    "name = \"QED\"\n",
    "weight = 0.6\n",
    "\n",
    "\n",
    "[[stage.scoring.component]]\n",
    "[stage.scoring.component.NumAtomStereoCenters]\n",
    "\n",
    "[[stage.scoring.component.NumAtomStereoCenters.endpoint]]\n",
    "name = \"Stereo\"\n",
    "weight = 0.4\n",
    "\n",
    "transform.type = \"left_step\"\n",
    "transform.low = 0\n",
    "\"\"\""
   ]
  },
  {
   "cell_type": "code",
   "execution_count": null,
   "id": "7af4a340",
   "metadata": {},
   "outputs": [],
   "source": [
    "config = global_parameters + parameters + learning_strategy + stages\n",
    "\n",
    "toml_config_filename = \"stage1.toml\"\n",
    "\n",
    "with open(toml_config_filename, \"w\") as tf:\n",
    "    tf.write(config)"
   ]
  },
  {
   "cell_type": "markdown",
   "id": "140d3799",
   "metadata": {},
   "source": [
    "##  Start Reinforcement Learning\n",
    "\n",
    "This run will take several minutes to finish and timings are provided at the end of the run.  After the run the TensorBoard output can be used to inspect the results of the run"
   ]
  },
  {
   "cell_type": "code",
   "execution_count": null,
   "id": "71326bc3",
   "metadata": {},
   "outputs": [],
   "source": [
    "%%time\n",
    "!reinvent -l stage1.log $toml_config_filename"
   ]
  },
  {
   "cell_type": "markdown",
   "id": "0de35292",
   "metadata": {},
   "source": [
    "### Inspect results with TensorBoard\n",
    "\n",
    "TensorBoard needs to be started after REINVENT has finished.  Scatter plots of all scoring components are shown (raw and transformed) in the _SCALARS_ tab as well as loss and fractions of valid and duplicate (per batch) SMILES.  The _IMAGES_ tab shows the first sampled molecules for each recorded RL step labelled with the total score for the molecule.\n",
    "\n",
    "The loss likehoods (negative log likelihoods, NLL) for the agent is expected to move away from the prior NLL and also have smaller NLLs than the prior.  This shows that the agent is increasingly producing molecules different from the prior, closer to the signal from the scoring function as requested.  For sample efficiency it is desirable to observed few duplicates and a high number of valid molecules.  Note that results are stochastic and will not be different in every run of RL, even with exactly the same configuration."
   ]
  },
  {
   "cell_type": "code",
   "execution_count": null,
   "id": "56324ee6",
   "metadata": {},
   "outputs": [],
   "source": [
    "%tensorboard --bind_all --logdir $wd/tb_stage1_0"
   ]
  },
  {
   "cell_type": "markdown",
   "id": "cb062a18",
   "metadata": {},
   "source": [
    "## Extract data from TensorBoard\n",
    "\n",
    "TensorBoard data can be directy extracted as shown in this section."
   ]
  },
  {
   "cell_type": "markdown",
   "id": "7c97a186",
   "metadata": {},
   "source": [
    "### Load the TB data"
   ]
  },
  {
   "cell_type": "code",
   "execution_count": null,
   "id": "93e7f9d0",
   "metadata": {},
   "outputs": [],
   "source": [
    "ea = load_tb_data(wd)"
   ]
  },
  {
   "cell_type": "markdown",
   "id": "07427975",
   "metadata": {},
   "source": [
    "### Plot all scalars\n",
    "\n",
    "All scalar values (except the raw components) are plotted here.  The data is also return as a Pandas dataframe and can so be conveniently used for further analysis or storing to a file."
   ]
  },
  {
   "cell_type": "code",
   "execution_count": null,
   "id": "ce3d6be6",
   "metadata": {},
   "outputs": [],
   "source": [
    "df = plot_scalars(ea)"
   ]
  },
  {
   "cell_type": "code",
   "execution_count": null,
   "id": "22a07cd7",
   "metadata": {},
   "outputs": [],
   "source": [
    "df"
   ]
  },
  {
   "cell_type": "markdown",
   "id": "46f45e9d",
   "metadata": {},
   "source": [
    "### Display an image from TB\n",
    "\n",
    "Shows (only) the last image from TB.  The image depicts the first 30 molecules generated in the very last step of RL:"
   ]
  },
  {
   "cell_type": "code",
   "execution_count": null,
   "id": "4e509431",
   "metadata": {},
   "outputs": [],
   "source": [
    "img = get_image(ea)\n",
    "display(img)"
   ]
  },
  {
   "cell_type": "markdown",
   "id": "5c7e8d72",
   "metadata": {},
   "source": [
    "## Extract data from the CSV file\n",
    "\n",
    "The CSV file is generated during the RL run in real time i.e. as soon as the data is available it is written to file. So even if the RL job crashes in the middle of the run some partial data will be available.  The TensorBoard data is a subset of the data in the CSV file.  The CSV file contains in addition all SMILES strings, their state (0=invalid, 1=valid, 2=batch duplicate), the scaffold if a diversity filter has been used."
   ]
  },
  {
   "cell_type": "code",
   "execution_count": null,
   "id": "c5f9000f",
   "metadata": {},
   "outputs": [],
   "source": [
    "csv_file = os.path.join(wd, \"stage1_1.csv\")\n",
    "df = pd.read_csv(csv_file)\n",
    "df"
   ]
  },
  {
   "cell_type": "markdown",
   "id": "f3c4e70d",
   "metadata": {},
   "source": [
    "### Sample efficiency\n",
    "\n",
    "Count the number of total invalid and duplcate SMILES and compare to the total number of generated SMILES."
   ]
  },
  {
   "cell_type": "code",
   "execution_count": null,
   "id": "c0141edd",
   "metadata": {
    "lines_to_next_cell": 0
   },
   "outputs": [],
   "source": [
    "total_smilies = len(df)\n",
    "\n",
    "invalids = df[df[\"SMILES_state\"] == 0]\n",
    "total_invalid_smilies = len(invalids)\n",
    "\n",
    "duplicates = df[df[\"SMILES_state\"] == 2]\n",
    "total_batch_duplicate_smilies = len(duplicates)\n",
    "\n",
    "all_duplicates = df[df.duplicated(subset=[\"SMILES\"])]\n",
    "total_duplicate_smilies = len(all_duplicates)\n",
    "\n",
    "print(f\"Total number of SMILES generated: {total_smilies}\\n\"\n",
    "      f\"Total number of invalid SMILES generated: {total_invalid_smilies}\\n\"\n",
    "      f\"Total number of batcg duplicate SMILES generated: {total_batch_duplicate_smilies}\\n\"\n",
    "      f\"Total number of duplicate SMILES generated: {total_duplicate_smilies}\")"
   ]
  },
  {
   "cell_type": "markdown",
   "id": "ca01ebfa",
   "metadata": {},
   "source": [
    "### Display all generated duplicates"
   ]
  },
  {
   "cell_type": "code",
   "execution_count": null,
   "id": "535ec918",
   "metadata": {
    "lines_to_next_cell": 2
   },
   "outputs": [],
   "source": [
    "mol_view = create_mol_grid(all_duplicates)\n",
    "display(mol_view)"
   ]
  },
  {
   "cell_type": "markdown",
   "id": "d83370d3",
   "metadata": {},
   "source": [
    "### Display the molecules from the last step"
   ]
  },
  {
   "cell_type": "code",
   "execution_count": null,
   "id": "95ab86fb",
   "metadata": {},
   "outputs": [],
   "source": [
    "last = df[df[\"step\"] == max(df[\"step\"])]\n",
    "mol_view = create_mol_grid(last)\n",
    "display(mol_view)"
   ]
  },
  {
   "cell_type": "markdown",
   "id": "41f58ea7",
   "metadata": {},
   "source": [
    "### Plot the NLLs\n",
    "\n",
    "The \"Target\" is the \"augmented NLL\"."
   ]
  },
  {
   "cell_type": "code",
   "execution_count": null,
   "id": "c4ae3af9",
   "metadata": {
    "lines_to_next_cell": 0
   },
   "outputs": [],
   "source": [
    "grouped_df = df.groupby(\"step\")\n",
    "\n",
    "for label in \"Agent\", \"Prior\", \"Target\":\n",
    "    means = grouped_df.aggregate({label: \"mean\"})\n",
    "    X = list(means.index.values)\n",
    "    sns.scatterplot(means, x=X, y=label, label=label)\n",
    "\n",
    "plt.xlabel(\"step\")\n",
    "plt.ylabel(\"NLL\")\n",
    "plt.show()"
   ]
  },
  {
   "cell_type": "code",
   "execution_count": null,
   "id": "9b586bb6",
   "metadata": {
    "lines_to_next_cell": 2
   },
   "outputs": [],
   "source": []
  }
 ],
 "metadata": {
  "jupytext": {
   "formats": "ipynb,py:light"
  },
  "kernelspec": {
   "display_name": "Python 3 (ipykernel)",
   "language": "python",
   "name": "python3"
  },
  "language_info": {
   "codemirror_mode": {
    "name": "ipython",
    "version": 3
   },
   "file_extension": ".py",
   "mimetype": "text/x-python",
   "name": "python",
   "nbconvert_exporter": "python",
   "pygments_lexer": "ipython3",
   "version": "3.10.8"
  }
 },
 "nbformat": 4,
 "nbformat_minor": 5
}
